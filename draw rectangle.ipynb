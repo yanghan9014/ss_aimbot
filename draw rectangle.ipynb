{
 "cells": [
  {
   "cell_type": "code",
   "execution_count": 1,
   "id": "2614ace7",
   "metadata": {},
   "outputs": [],
   "source": [
    "# import wx\n",
    "# import time\n",
    "\n",
    "# app = wx.PySimpleApp()\n",
    "# dc = wx.ScreenDC()\n",
    "\n",
    "# screenWidth, screenHeight = wx.DisplaySize()\n",
    "\n",
    "# boxWidth = int(screenWidth/3+0.5)\n",
    "# boxHeight = int(screenHeight/3+0.5)\n",
    "\n",
    "# dc.StartDrawingOnTop(None)\n",
    "# dc.SetPen(wx.Pen('red', 2))\n",
    "# dc.SetBrush(wx.TRANSPARENT_BRUSH)\n",
    "# dc.SetLogicalFunction(wx.INVERT)\n",
    "\n",
    "# for y in range(3):\n",
    "#     y1 = boxHeight*y\n",
    "#     for x in range(3):\n",
    "#         x1 = boxWidth*x\n",
    "#         dc.DrawRectangle(x1, y1, boxWidth, boxHeight)\n",
    "#         time.sleep(1)\n",
    "#         dc.DrawRectangle(x1, y1, boxWidth, boxHeight)"
   ]
  },
  {
   "cell_type": "code",
   "execution_count": 2,
   "id": "b893f4ee",
   "metadata": {},
   "outputs": [
    {
     "name": "stderr",
     "output_type": "stream",
     "text": [
      "<ipython-input-2-e3aae891edfe>:11: wxPyDeprecationWarning: Call to deprecated item EmptyBitmap. Use :class:`wx.Bitmap` instead\n",
      "  b = wx.EmptyBitmap(width, height)\n"
     ]
    },
    {
     "ename": "AttributeError",
     "evalue": "module 'wx' has no attribute 'RegionFromBitmap'",
     "output_type": "error",
     "traceback": [
      "\u001b[1;31m---------------------------------------------------------------------------\u001b[0m",
      "\u001b[1;31mAttributeError\u001b[0m                            Traceback (most recent call last)",
      "\u001b[1;32m<ipython-input-2-e3aae891edfe>\u001b[0m in \u001b[0;36m<module>\u001b[1;34m\u001b[0m\n\u001b[0;32m     35\u001b[0m \u001b[1;32mif\u001b[0m \u001b[0m__name__\u001b[0m \u001b[1;33m==\u001b[0m \u001b[1;34m\"__main__\"\u001b[0m\u001b[1;33m:\u001b[0m\u001b[1;33m\u001b[0m\u001b[1;33m\u001b[0m\u001b[0m\n\u001b[0;32m     36\u001b[0m     \u001b[0mapp\u001b[0m \u001b[1;33m=\u001b[0m \u001b[0mwx\u001b[0m\u001b[1;33m.\u001b[0m\u001b[0mApp\u001b[0m\u001b[1;33m(\u001b[0m\u001b[1;33m)\u001b[0m\u001b[1;33m\u001b[0m\u001b[1;33m\u001b[0m\u001b[0m\n\u001b[1;32m---> 37\u001b[1;33m     \u001b[0mf\u001b[0m \u001b[1;33m=\u001b[0m \u001b[0mFancyFrame\u001b[0m\u001b[1;33m(\u001b[0m\u001b[1;36m300\u001b[0m\u001b[1;33m,\u001b[0m \u001b[1;36m300\u001b[0m\u001b[1;33m)\u001b[0m\u001b[1;33m\u001b[0m\u001b[1;33m\u001b[0m\u001b[0m\n\u001b[0m\u001b[0;32m     38\u001b[0m     \u001b[0mapp\u001b[0m\u001b[1;33m.\u001b[0m\u001b[0mMainLoop\u001b[0m\u001b[1;33m(\u001b[0m\u001b[1;33m)\u001b[0m\u001b[1;33m\u001b[0m\u001b[1;33m\u001b[0m\u001b[0m\n",
      "\u001b[1;32m<ipython-input-2-e3aae891edfe>\u001b[0m in \u001b[0;36m__init__\u001b[1;34m(self, width, height)\u001b[0m\n\u001b[0;32m     19\u001b[0m         \u001b[0mdc\u001b[0m\u001b[1;33m.\u001b[0m\u001b[0mSelectObject\u001b[0m\u001b[1;33m(\u001b[0m\u001b[0mwx\u001b[0m\u001b[1;33m.\u001b[0m\u001b[0mNullBitmap\u001b[0m\u001b[1;33m)\u001b[0m\u001b[1;33m\u001b[0m\u001b[1;33m\u001b[0m\u001b[0m\n\u001b[0;32m     20\u001b[0m         \u001b[0mb\u001b[0m\u001b[1;33m.\u001b[0m\u001b[0mSetMaskColour\u001b[0m\u001b[1;33m(\u001b[0m\u001b[1;34m'black'\u001b[0m\u001b[1;33m)\u001b[0m\u001b[1;33m\u001b[0m\u001b[1;33m\u001b[0m\u001b[0m\n\u001b[1;32m---> 21\u001b[1;33m         \u001b[0mself\u001b[0m\u001b[1;33m.\u001b[0m\u001b[0mSetShape\u001b[0m\u001b[1;33m(\u001b[0m\u001b[0mwx\u001b[0m\u001b[1;33m.\u001b[0m\u001b[0mRegionFromBitmap\u001b[0m\u001b[1;33m(\u001b[0m\u001b[0mb\u001b[0m\u001b[1;33m)\u001b[0m\u001b[1;33m)\u001b[0m\u001b[1;33m\u001b[0m\u001b[1;33m\u001b[0m\u001b[0m\n\u001b[0m\u001b[0;32m     22\u001b[0m \u001b[1;33m\u001b[0m\u001b[0m\n\u001b[0;32m     23\u001b[0m         \u001b[0mself\u001b[0m\u001b[1;33m.\u001b[0m\u001b[0mBind\u001b[0m\u001b[1;33m(\u001b[0m\u001b[0mwx\u001b[0m\u001b[1;33m.\u001b[0m\u001b[0mEVT_KEY_UP\u001b[0m\u001b[1;33m,\u001b[0m \u001b[0mself\u001b[0m\u001b[1;33m.\u001b[0m\u001b[0mOnKeyDown\u001b[0m\u001b[1;33m)\u001b[0m\u001b[1;33m\u001b[0m\u001b[1;33m\u001b[0m\u001b[0m\n",
      "\u001b[1;31mAttributeError\u001b[0m: module 'wx' has no attribute 'RegionFromBitmap'"
     ]
    }
   ],
   "source": [
    "import wx\n",
    "\n",
    "class FancyFrame(wx.Frame):\n",
    "    def __init__(self, width, height):\n",
    "        wx.Frame.__init__(self, None,\n",
    "                          style = wx.STAY_ON_TOP |\n",
    "                          wx.FRAME_NO_TASKBAR |\n",
    "                          wx.FRAME_SHAPED,\n",
    "                          size=(width, height))\n",
    "        #self.SetTransparent(180)\n",
    "        b = wx.EmptyBitmap(width, height)\n",
    "        dc = wx.MemoryDC()\n",
    "        dc.SelectObject(b)\n",
    "        dc.SetBackground(wx.Brush('black'))\n",
    "        dc.Clear()\n",
    "        dc.SetBrush(wx.TRANSPARENT_BRUSH)\n",
    "        dc.SetPen(wx.Pen('red', 4))\n",
    "        dc.DrawRectangle(10, 10, width-20, height-20)\n",
    "        dc.SelectObject(wx.NullBitmap)\n",
    "        b.SetMaskColour('black')\n",
    "        \n",
    "        self.SetShape(wx.RegionFromBitmap(b))\n",
    "\n",
    "        self.Bind(wx.EVT_KEY_UP, self.OnKeyDown)\n",
    "        self.SetBackgroundColour('red')\n",
    "        self.Show(True)\n",
    "\n",
    "    def OnKeyDown(self, event):\n",
    "        \"\"\"quit if user press Esc\"\"\"\n",
    "        if event.GetKeyCode() == 27:\n",
    "            self.Close(force=True)\n",
    "        else:\n",
    "            event.Skip()\n",
    "\n",
    "\n",
    "if __name__ == \"__main__\":\n",
    "    app = wx.App()\n",
    "    f = FancyFrame(300, 300)\n",
    "    app.MainLoop()\n"
   ]
  },
  {
   "cell_type": "code",
   "execution_count": null,
   "id": "6ffc3dbb",
   "metadata": {},
   "outputs": [],
   "source": []
  },
  {
   "cell_type": "code",
   "execution_count": null,
   "id": "57d00f5c",
   "metadata": {},
   "outputs": [],
   "source": []
  },
  {
   "cell_type": "code",
   "execution_count": null,
   "id": "cfac5c82",
   "metadata": {},
   "outputs": [],
   "source": []
  }
 ],
 "metadata": {
  "kernelspec": {
   "display_name": "Python 3",
   "language": "python",
   "name": "python3"
  },
  "language_info": {
   "codemirror_mode": {
    "name": "ipython",
    "version": 3
   },
   "file_extension": ".py",
   "mimetype": "text/x-python",
   "name": "python",
   "nbconvert_exporter": "python",
   "pygments_lexer": "ipython3",
   "version": "3.9.5"
  }
 },
 "nbformat": 4,
 "nbformat_minor": 5
}
